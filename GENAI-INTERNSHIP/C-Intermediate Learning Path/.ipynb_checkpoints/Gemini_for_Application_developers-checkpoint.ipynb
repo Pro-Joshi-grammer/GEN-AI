{
 "cells": [
  {
   "cell_type": "markdown",
   "id": "97a5ea0b-f9b2-4a26-ad8d-641deb698281",
   "metadata": {},
   "source": [
    "Gemini For Application Developers"
   ]
  },
  {
   "cell_type": "raw",
   "id": "a0896a04-701e-4264-9432-c7fe8968a5ec",
   "metadata": {},
   "source": [
    "Gemini for Google Cloud and decide to use it to help them write better code fast, debug errors, \n",
    "and create reliable and scalable functionality for their company's website."
   ]
  },
  {
   "cell_type": "raw",
   "id": "434b87fa-24bc-42b9-9430-a841929bdc0f",
   "metadata": {},
   "source": [
    "Gemini can be integrated into Vscode IDE \n",
    "it helps migrate code from one language to another \n",
    "by commenting the code we need to write in a file and using the gemini wand button in vscode it generates the code \n",
    "since its connected to the websites databse it uses function methods and variables from the companies already existing code\n",
    "select and right click on the code select explain code option gemini explains the whole code in chat\n",
    "it also provides test plans and test cases to check the working of application "
   ]
  },
  {
   "cell_type": "raw",
   "id": "70bfcc20-6e1a-43d5-9b3a-70c42e3aeba2",
   "metadata": {},
   "source": [
    "First, the developer opens VS code and finds the database connection function that connects their front end website to their back end product database.\n",
    "It's written in C++, and they hope to migrate it to go.\n",
    "We now see the developer open Gemini Code is within VS code and type their conversion request in the chat window.\n",
    "The developer is thrilled to make this request in natural language.\n",
    "By typing in the phrase, convert this function to go and use Cloud SQL, Gemini can understand the\n",
    "context and function that is being referenced, all without leaving the IDE and without having to context switch."
   ]
  },
  {
   "cell_type": "raw",
   "id": "b1163c57-4b4f-4711-a655-27a1d9ee065f",
   "metadata": {},
   "source": [
    "They write a comment and natural language where they explain the function they want to create.\n",
    "After typing out the comment, they click the magic wand, and just like that, Gemini generated the function for\n",
    "them, pulled in appropriate product related API calls, and used functions and methods from their company's SDK and code base.\n"
   ]
  },
  {
   "cell_type": "raw",
   "id": "ec8b6810-12d3-4a48-9da8-ed563725fcbf",
   "metadata": {},
   "source": [
    "Gemini pulled in very specific methods and functions from their company's code base.\n",
    "This is huge.\n",
    "Typically, writing such code would require them to look up these functions, and that would take a lot of time."
   ]
  },
  {
   "cell_type": "raw",
   "id": "dc4424de-70f8-4c5b-a89e-d09275bc1d9a",
   "metadata": {},
   "source": [
    "Gemini can \n",
    "a)Generate code\n",
    "b)deploy code\n",
    "c)explain code\n",
    "d)commit code\n",
    "e)migrate code\n",
    "a && c && e"
   ]
  },
  {
   "cell_type": "raw",
   "id": "1bfedb18-9afa-4abb-972c-c62374279b7e",
   "metadata": {},
   "source": []
  },
  {
   "cell_type": "raw",
   "id": "d0af5108-a983-4640-a1f6-f3eceb098624",
   "metadata": {},
   "source": []
  },
  {
   "cell_type": "raw",
   "id": "e4d8545e-80bf-4145-9a8e-3e91a60f3df6",
   "metadata": {},
   "source": []
  },
  {
   "cell_type": "raw",
   "id": "44d305b3-f201-4eba-913b-6dbcd0e27ebb",
   "metadata": {},
   "source": []
  }
 ],
 "metadata": {
  "kernelspec": {
   "display_name": "Python [conda env:base] *",
   "language": "python",
   "name": "conda-base-py"
  },
  "language_info": {
   "codemirror_mode": {
    "name": "ipython",
    "version": 3
   },
   "file_extension": ".py",
   "mimetype": "text/x-python",
   "name": "python",
   "nbconvert_exporter": "python",
   "pygments_lexer": "ipython3",
   "version": "3.12.7"
  }
 },
 "nbformat": 4,
 "nbformat_minor": 5
}

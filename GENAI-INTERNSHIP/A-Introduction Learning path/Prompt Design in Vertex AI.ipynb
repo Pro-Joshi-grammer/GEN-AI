{
 "cells": [
  {
   "cell_type": "code",
   "execution_count": null,
   "id": "05b50610-6bba-402d-bdc5-419d7cc9901d",
   "metadata": {},
   "outputs": [],
   "source": []
  },
  {
   "cell_type": "markdown",
   "id": "17a67d45-52d1-49df-b32c-5e564044b826",
   "metadata": {},
   "source": [
    "Prompt engineering best practices"
   ]
  },
  {
   "cell_type": "raw",
   "id": "f9fc5054-2a6b-4db8-8fd3-b8b1f1250989",
   "metadata": {},
   "source": [
    "\n",
    "Prompt engineering is all about how to design your prompts so that the response is what you were indeed hoping to see.\n",
    "\n",
    "The idea of using \"unfancy\" prompts is to minimize the noise in your prompt to reduce the possibility of the LLM misinterpreting the intent of the prompt. Below are a few guidelines on how to engineer \"unfancy\" prompts.\n",
    "\n",
    "In this section, you'll cover the following best practices when engineering prompts:\n",
    "\n",
    "Be concise\n",
    "Be specific, and well-defined\n",
    "Ask one task at a time\n",
    "Improve response quality by including examples\n",
    "Turn generative tasks to classification tasks to improve safety"
   ]
  },
  {
   "cell_type": "code",
   "execution_count": 5,
   "id": "d0ef1f77-3302-43de-bf32-d966625d3eaa",
   "metadata": {},
   "outputs": [
    {
     "ename": "SyntaxError",
     "evalue": "invalid character '🛑' (U+1F6D1) (902450184.py, line 2)",
     "output_type": "error",
     "traceback": [
      "\u001b[1;36m  Cell \u001b[1;32mIn[5], line 2\u001b[1;36m\u001b[0m\n\u001b[1;33m    🛑 Not recommended. The prompt below is unnecessarily verbose.\u001b[0m\n\u001b[1;37m    ^\u001b[0m\n\u001b[1;31mSyntaxError\u001b[0m\u001b[1;31m:\u001b[0m invalid character '🛑' (U+1F6D1)\n"
     ]
    }
   ],
   "source": [
    "Be concise\n",
    "🛑 Not recommended. The prompt below is unnecessarily verbose.\n",
    "\n",
    "prompt = \"What do you think could be a good name for a flower shop that specializes in selling bouquets of dried flowers more than fresh flowers?\"\n",
    "​\n",
    "response = client.models.generate_content(model=MODEL_ID, contents=prompt)\n",
    "display(Markdown(response.text))\n",
    "✅ Recommended. The prompt below is to the point and concise.\n",
    "\n",
    "prompt = \"Suggest a name for a flower shop that sells bouquets of dried flowers\"\n",
    "\n",
    "response = client.models.generate_content(model=MODEL_ID, contents=prompt)\n",
    "display(Markdown(response.text))\n",
    "prompt = \"Suggest a name for a flower shop that sells bouquets of dried flowers\"\n",
    "​\n",
    "response = client.models.generate_content(model=MODEL_ID, contents=prompt)\n",
    "display(Markdown(response.text))"
   ]
  },
  {
   "cell_type": "code",
   "execution_count": null,
   "id": "cd3180b4-4555-4252-a7d2-12511a7dd4b8",
   "metadata": {},
   "outputs": [],
   "source": [
    "Be specific, and well-defined\n",
    "Suppose that you want to brainstorm creative ways to describe Earth.\n",
    "🛑 The prompt below might be a bit too generic (which is certainly OK if you'd like to ask a generic question!)\n",
    "\n",
    "prompt = \"Tell me about Earth\"\n",
    "​\n",
    "response = client.models.generate_content(model=MODEL_ID, contents=prompt)\n",
    "display(Markdown(response.text))\n",
    "✅ Recommended. The prompt below is specific and well-defined.\n",
    "\n",
    "prompt = \"Generate a list of ways that makes Earth unique compared to other planets\"\n",
    "​\n",
    "response = client.models.generate_content(model=MODEL_ID, contents=prompt)\n",
    "display(Markdown(response.text))\n"
   ]
  },
  {
   "cell_type": "code",
   "execution_count": null,
   "id": "3df94a61-f38d-4a43-952e-116d2361e433",
   "metadata": {},
   "outputs": [],
   "source": [
    "Ask one task at a time\n",
    "🛑 Not recommended. The prompt below has two parts to the question that could be asked separately.\n",
    "\n",
    "prompt = \"What's the best method of boiling water and why is the sky blue?\"\n",
    "​\n",
    "response = client.models.generate_content(model=MODEL_ID, contents=prompt)\n",
    "display(Markdown(response.text))\n",
    "✅ Recommended. The prompts below asks one task a time.\n",
    "\n",
    "prompt = \"What's the best method of boiling water?\"\n",
    "​\n",
    "response = client.models.generate_content(model=MODEL_ID, contents=prompt)\n",
    "display(Markdown(response.text))\n",
    "prompt = \"Why is the sky blue?\"\n",
    "​\n",
    "response = client.models.generate_content(model=MODEL_ID, contents=prompt)\n",
    "display(Markdown(response.text))"
   ]
  },
  {
   "cell_type": "raw",
   "id": "cc9cb6f3-3504-4033-8722-7d13e0a5a5da",
   "metadata": {},
   "source": [
    "Watch out for hallucinations\n",
    "Although LLMs have been trained on a large amount of data, they can generate text containing statements not grounded in truth or reality; these responses from the LLM are often referred to as \"hallucinations\" due to their limited memorization capabilities. Note that simply prompting the LLM to provide a citation isn't a fix to this problem, as there are instances of LLMs providing false or inaccurate citations. Dealing with hallucinations is a fundamental challenge of LLMs and an ongoing research area, so it is important to be cognizant that LLMs may seem to give you confident, correct-sounding statements that are in fact incorrect.\n",
    "\n",
    "Note that if you intend to use LLMs for the creative use cases, hallucinating could actually be quite useful.\n",
    "\n",
    "Try the prompt like the one below repeatedly. We set the temperature to 1.0 so that it takes more risks in its choices. It's possible that it may provide an inaccurate, but confident answer."
   ]
  },
  {
   "cell_type": "raw",
   "id": "926c9a96-73cd-4bce-b964-df609d0f46f3",
   "metadata": {},
   "source": [
    "Reduce Output Variability\n",
    "Using system instructions to guardrail the model from irrelevant responses\n",
    "How can we attempt to reduce the chances of irrelevant responses and hallucinations?\n",
    "\n",
    "One way is to provide the LLM with system instructions.\n",
    "\n",
    "Let's see how system instructions works and how you can use them to reduce hallucinations or irrelevant questions for a travel chatbot.\n",
    "\n",
    "Suppose we ask a simple question about one of Italy's most famous tourist spots.\n",
    "\n",
    "generation_config = GenerateContentConfig(temperature=1.0)\n",
    "​\n",
    "chat = client.chats.create(\n",
    "    model=MODEL_ID,\n",
    "    config=GenerateContentConfig(\n",
    "        system_instruction=[\n",
    "            \"Hello! You are an AI chatbot for a travel web site.\",\n",
    "            \"Your mission is to provide helpful queries for travelers.\",\n",
    "            \"Remember that before you answer a question, you must check to see if it complies with your mission.\",\n",
    "            \"If not, you can say, Sorry I can't answer that question.\",\n",
    "        ]\n",
    "    ),\n",
    ")\n",
    "​\n",
    "prompt = \"What is the best place for sightseeing in Milan, Italy?\"\n",
    "​\n",
    "response = chat.send_message(prompt)\n",
    "display(Markdown(response.text))\n",
    "Now let us pretend to be a user asks the chatbot a question that is unrelated to travel.\n",
    "\n",
    "prompt = \"What is the best place for sightseeing in Milan, Italy?\"\n",
    "​\n",
    "response = chat.send_message(prompt)\n",
    "display(Markdown(response.text))\n",
    "You can see that this way, a guardrail in the prompt prevented the chatbot from veering off course."
   ]
  },
  {
   "cell_type": "raw",
   "id": "3319f9f4-0945-4ac6-a5eb-b2c6390501b2",
   "metadata": {},
   "source": [
    "Turn generative tasks into classification tasks to reduce output variability\n",
    "Generative tasks lead to higher output variability\n",
    "The prompt below results in an open-ended response, useful for brainstorming, but response is highly variable.\n",
    "\n",
    "prompt = \"I'm a high school student. Recommend me a programming activity to improve my skills.\"\n",
    "​\n",
    "response = client.models.generate_content(model=MODEL_ID, contents=prompt)\n",
    "display(Markdown(response.text))\n"
   ]
  },
  {
   "cell_type": "raw",
   "id": "6c338032-388c-4b17-896c-dbfcf63bd493",
   "metadata": {},
   "source": [
    "Classification tasks reduces output variability\n",
    "The prompt below results in a choice and may be useful if you want the output to be easier to control.\n",
    "\n",
    "prompt = \"\"\"I'm a high school student. Which of these activities do you suggest and why:\n",
    "a) learn Python\n",
    "b) learn JavaScript\n",
    "c) learn Fortran\n",
    "\"\"\"\n",
    "​\n",
    "response = client.models.generate_content(model=MODEL_ID, contents=prompt)\n",
    "display(Markdown(response.text))\n",
    "Improve response quality by including examples\n",
    "Another way to improve response quality is to add examples in your prompt. The LLM learns in-context from the examples on how to respond. Typically, one to five examples (shots) are enough to improve the quality of responses. Including too many examples can cause the model to over-fit the data and reduce the quality of responses.\n",
    "\n",
    "Similar to classical model training, the quality and distribution of the examples is very important. Pick examples that are representative of the scenarios that you need the model to learn, and keep the distribution of the examples (e.g. number of examples per class in the case of classification) aligned with your actual distribution.\n",
    "\n",
    "Zero-shot prompt\n",
    "Below is an example of zero-shot prompting, where you don't provide any examples to the LLM within the prompt itself.\n",
    "\n",
    "prompt = \"\"\"Decide whether a Tweet's sentiment is positive, neutral, or negative.\n",
    "​\n",
    "Tweet: I loved the new YouTube video you made!\n",
    "Sentiment:\n",
    "\"\"\"\n",
    "​\n",
    "response = client.models.generate_content(model=MODEL_ID, contents=prompt)\n",
    "display(Markdown(response.text))\n",
    "One-shot prompt\n",
    "Below is an example of one-shot prompting, where you provide one example to the LLM within the prompt to give some guidance on what type of response you want.\n",
    "\n",
    "prompt = \"\"\"Decide whether a Tweet's sentiment is positive, neutral, or negative.\n",
    "​\n",
    "Tweet: I loved the new YouTube video you made!\n",
    "Sentiment: positive\n",
    "​\n",
    "Tweet: That was awful. Super boring 😠\n",
    "Sentiment:\n",
    "\"\"\"\n",
    "​\n",
    "response = client.models.generate_content(model=MODEL_ID, contents=prompt)\n",
    "display(Markdown(response.text))\n",
    "Few-shot prompt\n",
    "Below is an example of few-shot prompting, where you provide a few examples to the LLM within the prompt to give some guidance on what type of response you want.\n",
    "\n",
    "prompt = \"\"\"Decide whether a Tweet's sentiment is positive, neutral, or negative.\n",
    "​\n",
    "Tweet: I loved the new YouTube video you made!\n",
    "Sentiment: positive\n",
    "​\n",
    "Tweet: That was awful. Super boring 😠\n",
    "Sentiment: negative\n",
    "​\n",
    "Tweet: Something surprised me about this video - it was actually original. It was not the same old recycled stuff that I always see. Watch it - you will not regret it.\n",
    "Sentiment:\n",
    "\"\"\"\n",
    "​\n",
    "response = client.models.generate_content(model=MODEL_ID, contents=prompt)\n",
    "display(Markdown(response.text))\n",
    "Choosing between zero-shot, one-shot, few-shot prompting methods\n",
    "Which prompt technique to use will solely depends on your goal. The zero-shot prompts are more open-ended and can give you creative answers, while one-shot and few-shot prompts teach the model how to behave so you can get more predictable answers that are consistent with the examples provided.\n",
    "\n",
    "\n"
   ]
  },
  {
   "cell_type": "raw",
   "id": "35a63022-5754-4684-9b4b-eca37ceac97e",
   "metadata": {},
   "source": []
  },
  {
   "cell_type": "raw",
   "id": "c49fd00d-0cda-4f23-bbb9-6dbb9d9ea4c9",
   "metadata": {},
   "source": []
  },
  {
   "cell_type": "raw",
   "id": "21530187-087c-47d9-a071-67dbe56513b1",
   "metadata": {},
   "source": []
  },
  {
   "cell_type": "code",
   "execution_count": null,
   "id": "70d65d52-0244-44ba-a8b3-741ab4724c1b",
   "metadata": {},
   "outputs": [],
   "source": []
  },
  {
   "cell_type": "code",
   "execution_count": null,
   "id": "517d17d9-ffbf-4a7f-9d9f-1bf374c739ab",
   "metadata": {},
   "outputs": [],
   "source": []
  }
 ],
 "metadata": {
  "kernelspec": {
   "display_name": "Python [conda env:base] *",
   "language": "python",
   "name": "conda-base-py"
  },
  "language_info": {
   "codemirror_mode": {
    "name": "ipython",
    "version": 3
   },
   "file_extension": ".py",
   "mimetype": "text/x-python",
   "name": "python",
   "nbconvert_exporter": "python",
   "pygments_lexer": "ipython3",
   "version": "3.12.7"
  }
 },
 "nbformat": 4,
 "nbformat_minor": 5
}
